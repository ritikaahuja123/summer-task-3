{
 "cells": [
  {
   "cell_type": "code",
   "execution_count": null,
   "id": "a4a98990",
   "metadata": {},
   "outputs": [],
   "source": [
    "# Client Side Code"
   ]
  },
  {
   "cell_type": "code",
   "execution_count": null,
   "id": "1130414f",
   "metadata": {},
   "outputs": [],
   "source": [
    "# Importing the required libraries\n",
    "import socket\n",
    "import urllib              \n",
    "import pickle              \n",
    "import numpy as np\n",
    "import cv2"
   ]
  },
  {
   "cell_type": "code",
   "execution_count": null,
   "id": "e012d481",
   "metadata": {},
   "outputs": [],
   "source": [
    "# URL of mobile webcam\n",
    "URL = 'http://192.168.29.83:8080/shot.jpg'"
   ]
  },
  {
   "cell_type": "code",
   "execution_count": null,
   "id": "309b56ff",
   "metadata": {},
   "outputs": [],
   "source": [
    "# Create socket for client\n",
    "client_socket = socket.socket(socket.AF_INET,socket.SOCK_STREAM)\n",
    "\n",
    "ip = \"192.168.29.193\"\n",
    "port = 6565\n",
    "client_socket.connect( (ip,port) )"
   ]
  },
  {
   "cell_type": "code",
   "execution_count": null,
   "id": "eae0fc59",
   "metadata": {},
   "outputs": [],
   "source": [
    "while True:\n",
    "    get_data = client_socket.recv(10000000)\n",
    "    print(\"Response Recieved\")\n",
    "    \n",
    "    # Open the webcam URL\n",
    "    get_img = urllib.request.urlopen(URL)\n",
    "    # Convert img into array\n",
    "    array_img = np.array(bytearray(get_img.read()) , dtype=np.uint8)\n",
    "    # Decode img as it is\n",
    "    img = cv2.imdecode(array_img , -1)\n",
    "    # Resize the img\n",
    "    img = cv2.resize(img , (700,500))\n",
    "    # Store img in buffer\n",
    "    ret , buffer = cv2.imencode('.jpg' , img)\n",
    "    # Convert img into bytes form\n",
    "    bytedata = pickle.dumps(buffer)\n",
    "    # Send data to the server\n",
    "    client_socket.send(bytedata)\n",
    "    try:\n",
    "        data = pickle.loads(get_data)\n",
    "        # Decode received img\n",
    "        final_img = cv2.imdecode(data , cv2.IMREAD_COLOR) \n",
    "        if final_img is not None :\n",
    "            # Show the output window\n",
    "            cv2.imshow('Client connected' , final_img)\n",
    "            if cv2.waitKey(10) == 13 :\n",
    "                break\n",
    "    except: \n",
    "        print(\"Waiting for the server connection...!\")\n",
    "cv2.destroyAllWindows()"
   ]
  }
 ],
 "metadata": {
  "kernelspec": {
   "display_name": "Python 3",
   "language": "python",
   "name": "python3"
  },
  "language_info": {
   "codemirror_mode": {
    "name": "ipython",
    "version": 3
   },
   "file_extension": ".py",
   "mimetype": "text/x-python",
   "name": "python",
   "nbconvert_exporter": "python",
   "pygments_lexer": "ipython3",
   "version": "3.8.8"
  }
 },
 "nbformat": 4,
 "nbformat_minor": 5
}
